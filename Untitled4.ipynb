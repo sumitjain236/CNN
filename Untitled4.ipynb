{
 "cells": [
  {
   "cell_type": "code",
   "execution_count": 9,
   "metadata": {},
   "outputs": [
    {
     "name": "stdout",
     "output_type": "stream",
     "text": [
      "[('coster', 'foster'), ('colour', 'color')]\n"
     ]
    }
   ],
   "source": [
    "import language_tool_python\n",
    "tool = language_tool_python.LanguageTool('en-US')\n",
    " \n",
    "text = \"\"\"“I never hoped to see such a sight as that again, Mr. Holmes. From north, south,\n",
    "east, and west every man who had a shade of red in his hair had tramped into the\n",
    "city to answer the advertisement. Fleet Street was choked with red-headed folk,\n",
    "and Pope’s Court looked like a coster’s orange barrow. I should not have thought\n",
    "there were so many in the whole country as were brought together by that single\n",
    "advertisement. Every shade of colour they were—straw, lemon, orange, brick,\n",
    "Irish-setter, liver, clay; but, as Spaulding said, there were not many who had the\n",
    "real vivid flame-coloured tint. When I saw how many were waiting, I would have\n",
    "given it up in despair; but Spaulding would not hear of it. How he did it I could\n",
    "not imagine, but he pushed and pulled and butted until he got me through the\n",
    "crowd, and right up to the steps which led to the office. There was a double\n",
    "stream upon the stair, some going up in hope, and some coming back dejected;\n",
    "but we wedged in as well as we could and soon found ourselves in the office.”\n",
    "\"\"\"\n",
    " \n",
    " \n",
    "# get the matches\n",
    "matches = tool.check(text)\n",
    " \n",
    "#print(matches)\n",
    "my_mistakes = []\n",
    "my_corrections = []\n",
    "start_positions = []\n",
    "end_positions = []\n",
    " \n",
    "for rules in matches:\n",
    "    if len(rules.replacements)>0:\n",
    "        start_positions.append(rules.offset)\n",
    "        end_positions.append(rules.errorLength+rules.offset)\n",
    "        my_mistakes.append(text[rules.offset:rules.errorLength+rules.offset])\n",
    "        my_corrections.append(rules.replacements[0])\n",
    "     \n",
    " \n",
    "     \n",
    "my_new_text = list(text)\n",
    " \n",
    " \n",
    "for m in range(len(start_positions)):\n",
    "    for i in range(len(text)):\n",
    "        my_new_text[start_positions[m]] = my_corrections[m]\n",
    "        if (i>start_positions[m] and i<end_positions[m]):\n",
    "            my_new_text[i]=\"\"\n",
    "\n",
    "my_new_text = \"\".join(my_new_text)\n",
    "\n",
    "#print(my_new_text)\n",
    "mis_corr=list(zip(my_mistakes,my_corrections))\n",
    "print(mis_corr)"
   ]
  },
  {
   "cell_type": "code",
   "execution_count": 11,
   "metadata": {},
   "outputs": [
    {
     "ename": "ModuleNotFoundError",
     "evalue": "No module named 'language_check'",
     "output_type": "error",
     "traceback": [
      "\u001b[1;31m---------------------------------------------------------------------------\u001b[0m",
      "\u001b[1;31mModuleNotFoundError\u001b[0m                       Traceback (most recent call last)",
      "\u001b[1;32m<ipython-input-11-45691737b788>\u001b[0m in \u001b[0;36m<module>\u001b[1;34m\u001b[0m\n\u001b[1;32m----> 1\u001b[1;33m \u001b[1;32mimport\u001b[0m \u001b[0mlanguage_check\u001b[0m\u001b[1;33m\u001b[0m\u001b[1;33m\u001b[0m\u001b[0m\n\u001b[0m",
      "\u001b[1;31mModuleNotFoundError\u001b[0m: No module named 'language_check'"
     ]
    }
   ],
   "source": [
    "import language_check"
   ]
  },
  {
   "cell_type": "code",
   "execution_count": 12,
   "metadata": {},
   "outputs": [
    {
     "data": {
      "text/plain": [
       "'Department of medicine Colombia University closed on August 1 Milinda Samuelli'"
      ]
     },
     "execution_count": 12,
     "metadata": {},
     "output_type": "execute_result"
    }
   ],
   "source": [
    "s = \"Department of medicine Colombia University closed on August 1 Milinda Samuelli\"\n",
    "is_bad_rule = lambda rule: rule.message == 'Possible spelling mistake found.' and len(rule.replacements) and rule.replacements[0][0].isupper()\n",
    "import language_tool_python\n",
    "tool = language_tool_python.LanguageTool('en-US')\n",
    "matches = tool.check(s)\n",
    "matches = [rule for rule in matches if not is_bad_rule(rule)]\n",
    "language_tool_python.utils.correct(s, matches)"
   ]
  },
  {
   "cell_type": "code",
   "execution_count": 11,
   "metadata": {},
   "outputs": [
    {
     "name": "stdout",
     "output_type": "stream",
     "text": [
      "3\n",
      "[Match({'ruleId': 'MORFOLOGIK_RULE_EN_US', 'message': 'Possible spelling mistake found.', 'replacements': ['foster', 'roster', 'Foster', 'coaster', 'poster', 'Custer', 'caster', 'costar', 'Costner', 'copter', 'cotter', 'costed', 'zoster', 'cost er'], 'offsetInContext': 43, 'context': '...ed folk, and Pope’s Court looked like a coster’s orange barrow. I should not have thou...', 'offset': 272, 'errorLength': 6, 'category': 'TYPOS', 'ruleIssueType': 'misspelling', 'sentence': 'Fleet Street was choked with red-headed folk,\\nand Pope’s Court looked like a coster’s orange barrow.'}), Match({'ruleId': 'MORFOLOGIK_RULE_EN_US', 'message': 'Possible spelling mistake. ‘colour’ is British English.', 'replacements': ['color'], 'offsetInContext': 43, 'context': '...at single advertisement. Every shade of colour they were—straw, lemon, orange, brick, ...', 'offset': 432, 'errorLength': 6, 'category': 'TYPOS', 'ruleIssueType': 'misspelling', 'sentence': 'Every shade of colour they were—straw, lemon, orange, brick,\\nIrish-setter, liver, clay; but, as Spaulding said, there were not many who had the\\nreal vivid flame-coloured tint.'}), Match({'ruleId': 'MORFOLOGIK_RULE_EN_US', 'message': 'Possible spelling mistake found.', 'replacements': [], 'offsetInContext': 43, 'context': '...re were not many who had the real vivid flame-coloured tint. When I saw how many were waiting,...', 'offset': 572, 'errorLength': 14, 'category': 'TYPOS', 'ruleIssueType': 'misspelling', 'sentence': 'Every shade of colour they were—straw, lemon, orange, brick,\\nIrish-setter, liver, clay; but, as Spaulding said, there were not many who had the\\nreal vivid flame-coloured tint.'})]\n"
     ]
    }
   ],
   "source": [
    "import language_tool_python\n",
    "tool = language_tool_python.LanguageTool('en-US')\n",
    "text = \"\"\"I never hoped to see such a sight as that again, Mr. Holmes. From north, south,\n",
    "east, and west every man who had a shade of red in his hair had tramped into the\n",
    "city to answer the advertisement. Fleet Street was choked with red-headed folk,\n",
    "and Pope’s Court looked like a coster’s orange barrow. I should not have thought\n",
    "there were so many in the whole country as were brought together by that single\n",
    "advertisement. Every shade of colour they were—straw, lemon, orange, brick,\n",
    "Irish-setter, liver, clay; but, as Spaulding said, there were not many who had the\n",
    "real vivid flame-coloured tint. When I saw how many were waiting, I would have\n",
    "given it up in despair; but Spaulding would not hear of it. How he did it I could\n",
    "not imagine, but he pushed and pulled and butted until he got me through the\n",
    "crowd, and right up to the steps which led to the office. There was a double\n",
    "stream upon the stair, some going up in hope, and some coming back dejected;\n",
    "but we wedged in as well as we could and soon found ourselves in the office.\"\"\"\n",
    "matches = tool.check(text)\n",
    "print(len(matches))\n",
    "print(matches)"
   ]
  },
  {
   "cell_type": "code",
   "execution_count": 15,
   "metadata": {},
   "outputs": [
    {
     "name": "stdout",
     "output_type": "stream",
     "text": [
      "Offset 272, length 6, Rule ID: MORFOLOGIK_RULE_EN_US\n",
      "Message: Possible spelling mistake found.\n",
      "Suggestion: foster; roster; Foster; coaster; poster; Custer; caster; costar; Costner; copter; cotter; costed; zoster; cost er\n",
      "...ed folk, and Pope’s Court looked like a coster’s orange barrow. I should not have thou...\n",
      "                                           ^^^^^^\n",
      "Offset 432, length 6, Rule ID: MORFOLOGIK_RULE_EN_US\n",
      "Message: Possible spelling mistake. ‘colour’ is British English.\n",
      "Suggestion: color\n",
      "...at single advertisement. Every shade of colour they were—straw, lemon, orange, brick, ...\n",
      "                                           ^^^^^^\n",
      "Offset 572, length 14, Rule ID: MORFOLOGIK_RULE_EN_US\n",
      "Message: Possible spelling mistake found.\n",
      "...re were not many who had the real vivid flame-coloured tint. When I saw how many were waiting,...\n",
      "                                           ^^^^^^^^^^^^^^\n"
     ]
    }
   ],
   "source": [
    "for i in range(len(matches)):\n",
    "    \n",
    "    print(matches[i])\n",
    "#print(matches[0].ruleId)\n",
    "#print(matches[0].message)\n",
    "#print(matches[0].replacements)\n",
    "#print(text[matches[0].offsetInContext])"
   ]
  },
  {
   "cell_type": "code",
   "execution_count": null,
   "metadata": {},
   "outputs": [],
   "source": []
  }
 ],
 "metadata": {
  "kernelspec": {
   "display_name": "Python 3",
   "language": "python",
   "name": "python3"
  },
  "language_info": {
   "codemirror_mode": {
    "name": "ipython",
    "version": 3
   },
   "file_extension": ".py",
   "mimetype": "text/x-python",
   "name": "python",
   "nbconvert_exporter": "python",
   "pygments_lexer": "ipython3",
   "version": "3.7.3"
  }
 },
 "nbformat": 4,
 "nbformat_minor": 2
}
